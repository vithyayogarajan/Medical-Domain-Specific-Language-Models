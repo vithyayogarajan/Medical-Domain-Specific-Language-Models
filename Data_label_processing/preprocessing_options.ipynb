{
 "cells": [
  {
   "cell_type": "code",
   "execution_count": 1,
   "metadata": {},
   "outputs": [],
   "source": [
    "import pandas as pd\n",
    "from sqlalchemy import create_engine\n",
    "import string"
   ]
  },
  {
   "cell_type": "code",
   "execution_count": 2,
   "metadata": {},
   "outputs": [],
   "source": [
    "engine = create_engine(\"postgresql://localhost/mimic?user=xxxxx&password=xxxxx\") \n",
    "# user name and password needs to be modified based on the local setup of the postgress server"
   ]
  },
  {
   "cell_type": "code",
   "execution_count": 3,
   "metadata": {},
   "outputs": [],
   "source": [
    "df2 = pd.read_sql_query(\n",
    "    'select hadm_id, text from mimic.mimiciii.noteevents where category=\\'Discharge summary\\'', con=engine)  # change limit number\n",
    "df2 = df2.sort_values('hadm_id').reset_index()\n",
    "df = df2.groupby('hadm_id').agg(lambda x: ''.join(x.unique()))\n",
    "df = df.reset_index()"
   ]
  },
  {
   "cell_type": "code",
   "execution_count": 4,
   "metadata": {},
   "outputs": [
    {
     "data": {
      "text/html": [
       "<div>\n",
       "<style scoped>\n",
       "    .dataframe tbody tr th:only-of-type {\n",
       "        vertical-align: middle;\n",
       "    }\n",
       "\n",
       "    .dataframe tbody tr th {\n",
       "        vertical-align: top;\n",
       "    }\n",
       "\n",
       "    .dataframe thead th {\n",
       "        text-align: right;\n",
       "    }\n",
       "</style>\n",
       "<table border=\"1\" class=\"dataframe\">\n",
       "  <thead>\n",
       "    <tr style=\"text-align: right;\">\n",
       "      <th></th>\n",
       "      <th>hadm_id</th>\n",
       "      <th>text</th>\n",
       "    </tr>\n",
       "  </thead>\n",
       "  <tbody>\n",
       "    <tr>\n",
       "      <td>0</td>\n",
       "      <td>100001</td>\n",
       "      <td>Admission Date:  [**2117-9-11**]              ...</td>\n",
       "    </tr>\n",
       "    <tr>\n",
       "      <td>1</td>\n",
       "      <td>100003</td>\n",
       "      <td>Admission Date:  [**2150-4-17**]              ...</td>\n",
       "    </tr>\n",
       "    <tr>\n",
       "      <td>2</td>\n",
       "      <td>100006</td>\n",
       "      <td>Admission Date:  [**2108-4-6**]       Discharg...</td>\n",
       "    </tr>\n",
       "    <tr>\n",
       "      <td>3</td>\n",
       "      <td>100007</td>\n",
       "      <td>Admission Date:  [**2145-3-31**]              ...</td>\n",
       "    </tr>\n",
       "    <tr>\n",
       "      <td>4</td>\n",
       "      <td>100009</td>\n",
       "      <td>Admission Date:  [**2162-5-16**]              ...</td>\n",
       "    </tr>\n",
       "  </tbody>\n",
       "</table>\n",
       "</div>"
      ],
      "text/plain": [
       "   hadm_id                                               text\n",
       "0   100001  Admission Date:  [**2117-9-11**]              ...\n",
       "1   100003  Admission Date:  [**2150-4-17**]              ...\n",
       "2   100006  Admission Date:  [**2108-4-6**]       Discharg...\n",
       "3   100007  Admission Date:  [**2145-3-31**]              ...\n",
       "4   100009  Admission Date:  [**2162-5-16**]              ..."
      ]
     },
     "execution_count": 4,
     "metadata": {},
     "output_type": "execute_result"
    }
   ],
   "source": [
    "df.head()"
   ]
  },
  {
   "cell_type": "code",
   "execution_count": 6,
   "metadata": {},
   "outputs": [],
   "source": [
    "import re, nltk\n",
    "def preprocessing(t):\n",
    "    t = re.sub('\\n', ' ',t)\n",
    "    t = re.sub('\\r', ' ',t)\n",
    "    t = t.lower()\n",
    "    t = re.sub('\\\\[(.*?)\\\\]', '', t)  # remove de-identified brackets\n",
    "    t = re.sub('[0-9]+\\.', '', t)  \n",
    "    t = re.sub('dr\\.', 'doctor', t)\n",
    "    t = re.sub('m\\.d\\.', 'md', t)\n",
    "    t = re.sub('admission date:', '', t)\n",
    "    t = re.sub('discharge date:', '', t)\n",
    "    t = re.sub('--|__|==', '', t)\n",
    "    return t\n",
    "\n",
    "max_size = 1500\n",
    "def truncate(content, length=max_size):\n",
    "    word = content.split()\n",
    "    if len(word) <= length:\n",
    "        return content\n",
    "    else:\n",
    "        return ' '.join(word[:length])"
   ]
  },
  {
   "cell_type": "code",
   "execution_count": 12,
   "metadata": {},
   "outputs": [],
   "source": [
    "hname = \"fulltext_preprocessed.csv\"\n",
    "\n",
    "with open(hname, \"a\") as g:\n",
    "    g.write('hadm,text\\n')\n",
    "    \n",
    "with open(hname, \"a\") as h:\n",
    "    for index, line in df.iterrows():\n",
    "        t = line[1]\n",
    "        tfinal = preprocessing(t)\n",
    "        text = \"\".join([w for w in tfinal if w not in string.punctuation])\n",
    "        t2 = text.lower()\n",
    "        ttrial = t2.split()\n",
    "        tt = [y for y in ttrial if not y.isnumeric()]\n",
    "        tf = \" \".join(tt)\n",
    "        ttr = truncate(tf)\n",
    "        h.write(str(line[0])+','+str(ttr)+'\\n')\n",
    "        "
   ]
  },
  {
   "cell_type": "code",
   "execution_count": 15,
   "metadata": {},
   "outputs": [
    {
     "data": {
      "text/html": [
       "<div>\n",
       "<style scoped>\n",
       "    .dataframe tbody tr th:only-of-type {\n",
       "        vertical-align: middle;\n",
       "    }\n",
       "\n",
       "    .dataframe tbody tr th {\n",
       "        vertical-align: top;\n",
       "    }\n",
       "\n",
       "    .dataframe thead th {\n",
       "        text-align: right;\n",
       "    }\n",
       "</style>\n",
       "<table border=\"1\" class=\"dataframe\">\n",
       "  <thead>\n",
       "    <tr style=\"text-align: right;\">\n",
       "      <th></th>\n",
       "      <th>hadm</th>\n",
       "      <th>text</th>\n",
       "    </tr>\n",
       "  </thead>\n",
       "  <tbody>\n",
       "    <tr>\n",
       "      <td>0</td>\n",
       "      <td>100001</td>\n",
       "      <td>date of birth sex f service medicine allergies...</td>\n",
       "    </tr>\n",
       "    <tr>\n",
       "      <td>1</td>\n",
       "      <td>100003</td>\n",
       "      <td>date of birth sex m service medicine allergies...</td>\n",
       "    </tr>\n",
       "    <tr>\n",
       "      <td>2</td>\n",
       "      <td>100006</td>\n",
       "      <td>date of birth sex f service o med chief compla...</td>\n",
       "    </tr>\n",
       "    <tr>\n",
       "      <td>3</td>\n",
       "      <td>100007</td>\n",
       "      <td>date of birth sex f service surgery allergies ...</td>\n",
       "    </tr>\n",
       "    <tr>\n",
       "      <td>4</td>\n",
       "      <td>100009</td>\n",
       "      <td>date of birth sex m service cardiothoracic all...</td>\n",
       "    </tr>\n",
       "  </tbody>\n",
       "</table>\n",
       "</div>"
      ],
      "text/plain": [
       "     hadm                                               text\n",
       "0  100001  date of birth sex f service medicine allergies...\n",
       "1  100003  date of birth sex m service medicine allergies...\n",
       "2  100006  date of birth sex f service o med chief compla...\n",
       "3  100007  date of birth sex f service surgery allergies ...\n",
       "4  100009  date of birth sex m service cardiothoracic all..."
      ]
     },
     "execution_count": 15,
     "metadata": {},
     "output_type": "execute_result"
    }
   ],
   "source": [
    "processedtext = pd.read_csv(\"fulltext_preprocessed.csv\")\n",
    "processedtext.head()"
   ]
  },
  {
   "cell_type": "code",
   "execution_count": null,
   "metadata": {},
   "outputs": [],
   "source": []
  }
 ],
 "metadata": {
  "kernelspec": {
   "display_name": "Python 3",
   "language": "python",
   "name": "python3"
  },
  "language_info": {
   "codemirror_mode": {
    "name": "ipython",
    "version": 3
   },
   "file_extension": ".py",
   "mimetype": "text/x-python",
   "name": "python",
   "nbconvert_exporter": "python",
   "pygments_lexer": "ipython3",
   "version": "3.7.4"
  }
 },
 "nbformat": 4,
 "nbformat_minor": 4
}

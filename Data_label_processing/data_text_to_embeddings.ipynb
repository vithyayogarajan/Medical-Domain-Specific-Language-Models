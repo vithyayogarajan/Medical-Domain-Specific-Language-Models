{
 "cells": [
  {
   "cell_type": "code",
   "execution_count": null,
   "metadata": {},
   "outputs": [],
   "source": [
    "import pandas as pd\n",
    "from sqlalchemy import create_engine\n",
    "import os\n",
    "\n",
    "import textwrap\n",
    "\n",
    "engine = create_engine(\"postgresql://localhost/mimic?user=xxxx&password=xxxx\") \n",
    "# user name and password needs to be modified based on the local setup of the postgress server  \n",
    "\n",
    "path_ft = \"/home/ft/fastText-0.2.0/fasttext\"## modify path to fastText \n",
    "path_model_bin = \"T300SG.bin\"## modify path to bin"
   ]
  },
  {
   "cell_type": "code",
   "execution_count": null,
   "metadata": {},
   "outputs": [],
   "source": [
    "total_row = 58929 ## use a few rows to test \n",
    "rowlimit = total_row\n",
    "fname = \"discharge_summary.txt\"\n",
    "gname = \"h.csv\" ## hospital admission \n",
    "\n",
    "\n",
    "with open(gname, \"a\") as g:\n",
    "    g.write('HADM_ID\\n')\n",
    "\n",
    "\n",
    "df = pd.read_sql_query(\n",
    "    'select HADM_ID, text from mimic.mimiciii.noteevents where category=\\'Discharge summary\\'  offset ' + \n",
    "    str(rowlimit) + ' limit ''' + str(rowlimit),\n",
    "    con=engine)  # change limit number\n",
    "df = df.sort_values('HADM_ID').reset_index()\n",
    "df1 = df.groupby('HADM_ID').agg(lambda x: ''.join(x.unique()))\n",
    "df1 = df1.reset_index()\n",
    "\n",
    "with open(fname, \"a\") as f, open(gname, \"a\") as g:\n",
    "    for index, line in df1.iterrows():\n",
    "        t = \" \".join(line[1].split())\n",
    "        f.write(t  + '\\n')\n",
    "        g.write(str(line[0]) + '\\n')\n"
   ]
  },
  {
   "cell_type": "code",
   "execution_count": null,
   "metadata": {},
   "outputs": [],
   "source": [
    "## fastText processing\n",
    "vout_fname = \"fasttextout.txt\"\n",
    "cmd = \"{} print-sentence-vectors {} < {} > {}\".format(path_ft, path_model_bin, fname, vout_fname)\n",
    "os.system(cmd)\n"
   ]
  },
  {
   "cell_type": "code",
   "execution_count": null,
   "metadata": {},
   "outputs": [],
   "source": [
    "## processing the fastText output. The code here includes options to print outputs and save output. \n",
    "## Please comment out if not needed.\n",
    "\n",
    "TEMP = \"temp.txt\"\n",
    "\n",
    "vectors_file = open(TEMP, \"w+\")\n",
    "with open(vout_fname) as f:\n",
    "    line = f.readline()\n",
    "    while(line):\n",
    "        line = line.replace(\" \", \",\")\n",
    "        vectors_file.write(line[:-2])\n",
    "        vectors_file.write(\"\\n\")\n",
    "        line = f.readline()\n",
    "vectors_file.close()\n",
    "df_vectors = pd.read_csv(TEMP, header=None, index_col=None)\n",
    "df_vectors.rename(columns=lambda x: \"vec\" + str(x+1), inplace=True)\n",
    "df_vectors.rename(columns={'':''}, inplace=True)\n",
    "df_vectors.to_csv('vector_f.csv', index=False)\n",
    "print(df_vectors)"
   ]
  },
  {
   "cell_type": "code",
   "execution_count": null,
   "metadata": {},
   "outputs": [],
   "source": [
    "with open('h.csv') as f1, open('vector_f.csv') as f2, open('vector_T300SG.csv','w') as out:\n",
    "    for x in f1:\n",
    "        y = next(f2)\n",
    "        out.write(\"{},{}\".format(x.strip(),y))"
   ]
  }
 ],
 "metadata": {
  "kernelspec": {
   "display_name": "Python 3",
   "language": "python",
   "name": "python3"
  },
  "language_info": {
   "codemirror_mode": {
    "name": "ipython",
    "version": 3
   },
   "file_extension": ".py",
   "mimetype": "text/x-python",
   "name": "python",
   "nbconvert_exporter": "python",
   "pygments_lexer": "ipython3",
   "version": "3.7.4"
  }
 },
 "nbformat": 4,
 "nbformat_minor": 2
}

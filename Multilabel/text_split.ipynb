{
 "cells": [
  {
   "cell_type": "code",
   "execution_count": null,
   "metadata": {},
   "outputs": [],
   "source": [
    "import os\n",
    "import re\n",
    "import string"
   ]
  },
  {
   "cell_type": "code",
   "execution_count": null,
   "metadata": {},
   "outputs": [],
   "source": [
    "INPUT_FILE = \"t_full_input.txt\" ## This is a text file with all MIMIC III discharge summary in the format: hospital admission, discharge summary (each hospital admission seperated by a new line) \n",
    "OUTPUT_FILE = \"t_out_7split.txt\" \n",
    "\n",
    "\n",
    "DELIMITERS = 'Admission Date: ', 'Past Medical History: ', 'Pertinent Results: ', 'Brief Hospital Course: ', 'Medications on Admission: ', 'Discharge Diagnosis: ', 'Followup Instructions: '"
   ]
  },
  {
   "cell_type": "code",
   "execution_count": null,
   "metadata": {},
   "outputs": [],
   "source": [
    "out = open(OUTPUT_FILE, 'w')\n",
    "\n",
    "def process_line(line):\n",
    "    ret = {}\n",
    "    id, rest = line.split(',', 1)\n",
    "    rest = rest.strip()\n",
    "    for i, d in enumerate(DELIMITERS):\n",
    "        split = re.split(d, rest)\n",
    "        if len(split) < 2:\n",
    "            rest = split[0]\n",
    "            continue\n",
    "        else:\n",
    "            first = split[0]\n",
    "            rest = split[1]\n",
    "        ret[d] = first\n",
    "    \n",
    "    keys = [i for i in ret.keys()]\n",
    "    values = [i.strip() for i in ret.values()]\n",
    "    values.append(rest)\n",
    "    values.pop(0)\n",
    "    result = dict(zip(keys, values))\n",
    "    for k,v in result.items():\n",
    "        print(f'\\n{k}\\n{v}')\n",
    "        print(\"-----------------------------\")\n",
    "    return id, result\n",
    "\n",
    "\n",
    "def write_to_file(id, result):\n",
    "    l = len(result)\n",
    "    i = 0\n",
    "\n",
    "    for k, v in result.items():\n",
    "        knew = \"\".join([w for w in k if w not in string.punctuation])\n",
    "        vnew = \"\".join([w for w in v if w not in string.punctuation])\n",
    "        if i == len:\n",
    "            out.write(id+\", '\"+knew+vnew+\"' \\n\") \n",
    "        else:\n",
    "            out.write(id+\", '\"+knew+vnew+\"' \\n\") \n",
    "\n",
    "\n",
    "with open(INPUT_FILE) as f:\n",
    "    for l in f:\n",
    "        id, r = process_line(l)\n",
    "        write_to_file(id, r)\n",
    "    out.close()\n",
    "\n",
    "\n",
    "\n"
   ]
  }
 ],
 "metadata": {
  "kernelspec": {
   "display_name": "Python 3",
   "language": "python",
   "name": "python3"
  },
  "language_info": {
   "codemirror_mode": {
    "name": "ipython",
    "version": 3
   },
   "file_extension": ".py",
   "mimetype": "text/x-python",
   "name": "python",
   "nbconvert_exporter": "python",
   "pygments_lexer": "ipython3",
   "version": "3.7.4"
  }
 },
 "nbformat": 4,
 "nbformat_minor": 2
}

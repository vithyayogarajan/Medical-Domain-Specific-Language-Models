{
 "cells": [
  {
   "cell_type": "code",
   "execution_count": 1,
   "metadata": {},
   "outputs": [],
   "source": [
    "import pandas as pd\n",
    "import Orange \n",
    "import matplotlib as mpl\n",
    "import matplotlib.pyplot as plt\n",
    "mpl.rcParams[\"font.size\"] = 12\n"
   ]
  },
  {
   "cell_type": "code",
   "execution_count": 2,
   "metadata": {},
   "outputs": [],
   "source": [
    "df = pd.read_csv(\"covid_mimic_label_f1score.csv\") ## f1 scores of 42 labels for COVID-19 MIMIC-III data"
   ]
  },
  {
   "cell_type": "code",
   "execution_count": 3,
   "metadata": {},
   "outputs": [
    {
     "name": "stdout",
     "output_type": "stream",
     "text": [
      "<class 'pandas.core.frame.DataFrame'>\n",
      "RangeIndex: 42 entries, 0 to 41\n",
      "Data columns (total 7 columns):\n",
      " #   Column            Non-Null Count  Dtype  \n",
      "---  ------            --------------  -----  \n",
      " 0   labels            42 non-null     object \n",
      " 1   % Freq            42 non-null     float64\n",
      " 2   CAML (T100SG)     42 non-null     float64\n",
      " 3   BiGRU (T100SG)    42 non-null     float64\n",
      " 4   CNNText (T100SG)  42 non-null     float64\n",
      " 5   DR-CAML (T100SG)  42 non-null     float64\n",
      " 6   ECC-LR            42 non-null     float64\n",
      "dtypes: float64(6), object(1)\n",
      "memory usage: 2.4+ KB\n"
     ]
    }
   ],
   "source": [
    "df.info()"
   ]
  },
  {
   "cell_type": "code",
   "execution_count": 4,
   "metadata": {},
   "outputs": [
    {
     "data": {
      "text/html": [
       "<div>\n",
       "<style scoped>\n",
       "    .dataframe tbody tr th:only-of-type {\n",
       "        vertical-align: middle;\n",
       "    }\n",
       "\n",
       "    .dataframe tbody tr th {\n",
       "        vertical-align: top;\n",
       "    }\n",
       "\n",
       "    .dataframe thead th {\n",
       "        text-align: right;\n",
       "    }\n",
       "</style>\n",
       "<table border=\"1\" class=\"dataframe\">\n",
       "  <thead>\n",
       "    <tr style=\"text-align: right;\">\n",
       "      <th></th>\n",
       "      <th>labels</th>\n",
       "      <th>% Freq</th>\n",
       "      <th>CAML (T100SG)</th>\n",
       "      <th>BiGRU (T100SG)</th>\n",
       "      <th>CNNText (T100SG)</th>\n",
       "      <th>DR-CAML (T100SG)</th>\n",
       "      <th>ECC-LR</th>\n",
       "    </tr>\n",
       "  </thead>\n",
       "  <tbody>\n",
       "    <tr>\n",
       "      <th>0</th>\n",
       "      <td>CAT_285</td>\n",
       "      <td>34.98</td>\n",
       "      <td>0.65</td>\n",
       "      <td>0.71</td>\n",
       "      <td>0.69</td>\n",
       "      <td>0.66</td>\n",
       "      <td>0.62</td>\n",
       "    </tr>\n",
       "    <tr>\n",
       "      <th>1</th>\n",
       "      <td>CAT_V58</td>\n",
       "      <td>19.74</td>\n",
       "      <td>0.66</td>\n",
       "      <td>0.68</td>\n",
       "      <td>0.64</td>\n",
       "      <td>0.67</td>\n",
       "      <td>0.52</td>\n",
       "    </tr>\n",
       "    <tr>\n",
       "      <th>2</th>\n",
       "      <td>CAT_996</td>\n",
       "      <td>16.11</td>\n",
       "      <td>0.55</td>\n",
       "      <td>0.42</td>\n",
       "      <td>0.50</td>\n",
       "      <td>0.55</td>\n",
       "      <td>0.39</td>\n",
       "    </tr>\n",
       "    <tr>\n",
       "      <th>3</th>\n",
       "      <td>CAT_496</td>\n",
       "      <td>12.12</td>\n",
       "      <td>0.72</td>\n",
       "      <td>0.71</td>\n",
       "      <td>0.71</td>\n",
       "      <td>0.71</td>\n",
       "      <td>0.37</td>\n",
       "    </tr>\n",
       "    <tr>\n",
       "      <th>4</th>\n",
       "      <td>CAT_287</td>\n",
       "      <td>10.95</td>\n",
       "      <td>0.59</td>\n",
       "      <td>0.55</td>\n",
       "      <td>0.54</td>\n",
       "      <td>0.58</td>\n",
       "      <td>0.29</td>\n",
       "    </tr>\n",
       "  </tbody>\n",
       "</table>\n",
       "</div>"
      ],
      "text/plain": [
       "    labels  % Freq  CAML (T100SG)  BiGRU (T100SG)  CNNText (T100SG)  \\\n",
       "0  CAT_285   34.98           0.65            0.71              0.69   \n",
       "1  CAT_V58   19.74           0.66            0.68              0.64   \n",
       "2  CAT_996   16.11           0.55            0.42              0.50   \n",
       "3  CAT_496   12.12           0.72            0.71              0.71   \n",
       "4  CAT_287   10.95           0.59            0.55              0.54   \n",
       "\n",
       "   DR-CAML (T100SG)  ECC-LR  \n",
       "0              0.66    0.62  \n",
       "1              0.67    0.52  \n",
       "2              0.55    0.39  \n",
       "3              0.71    0.37  \n",
       "4              0.58    0.29  "
      ]
     },
     "execution_count": 4,
     "metadata": {},
     "output_type": "execute_result"
    }
   ],
   "source": [
    "df.head()"
   ]
  },
  {
   "cell_type": "code",
   "execution_count": 5,
   "metadata": {},
   "outputs": [
    {
     "data": {
      "text/plain": [
       "Index(['labels', '% Freq', 'CAML (T100SG)', 'BiGRU (T100SG)',\n",
       "       'CNNText (T100SG)', 'DR-CAML (T100SG)', 'ECC-LR'],\n",
       "      dtype='object')"
      ]
     },
     "execution_count": 5,
     "metadata": {},
     "output_type": "execute_result"
    }
   ],
   "source": [
    "df.columns"
   ]
  },
  {
   "cell_type": "code",
   "execution_count": 6,
   "metadata": {},
   "outputs": [],
   "source": [
    "names = ['CAML (T100SG)',\n",
    "       'BiGRU (T100SG)', 'CNNText (T100SG)', 'DR-CAML (T100SG)', 'ECC-LR']"
   ]
  },
  {
   "cell_type": "code",
   "execution_count": 7,
   "metadata": {},
   "outputs": [],
   "source": [
    "from scipy.stats import rankdata"
   ]
  },
  {
   "cell_type": "code",
   "execution_count": 9,
   "metadata": {},
   "outputs": [
    {
     "name": "stdout",
     "output_type": "stream",
     "text": [
      "[0.65 0.71 0.69 0.66 0.62]\n",
      "[4. 1. 2. 3. 5.]\n",
      "[0.66 0.68 0.64 0.67 0.52]\n",
      "[3. 1. 4. 2. 5.]\n",
      "[0.55 0.42 0.5 0.55 0.39]\n",
      "[1.5 4.  3.  1.5 5. ]\n",
      "[0.72 0.71 0.71 0.71 0.37]\n",
      "[1. 3. 3. 3. 5.]\n",
      "[0.59 0.55 0.54 0.58 0.29]\n",
      "[1. 3. 4. 2. 5.]\n",
      "[0.65 0.64 0.61 0.64 0.46]\n",
      "[1.  2.5 4.  2.5 5. ]\n",
      "[0.55 0.41 0.53 0.55 0.36]\n",
      "[1.5 4.  3.  1.5 5. ]\n",
      "[0.0 0.0 0.0 0.0 0.87]\n",
      "[3.5 3.5 3.5 3.5 1. ]\n",
      "[0.38 0.42 0.45 0.34 0.18]\n",
      "[3. 2. 1. 4. 5.]\n",
      "[0.41 0.32 0.41 0.4 0.3]\n",
      "[1.5 4.  1.5 3.  5. ]\n",
      "[0.76 0.71 0.72 0.75 0.65]\n",
      "[1. 4. 3. 2. 5.]\n",
      "[0.73 0.8 0.79 0.38 0.57]\n",
      "[3. 1. 2. 5. 4.]\n",
      "[0.32 0.2 0.29 0.32 0.24]\n",
      "[1.5 5.  3.  1.5 4. ]\n",
      "[0.66 0.62 0.65 0.67 0.56]\n",
      "[2. 4. 3. 1. 5.]\n",
      "[0.63 0.62 0.62 0.62 0.48]\n",
      "[1. 3. 3. 3. 5.]\n",
      "[0.55 0.31 0.55 0.56 0.27]\n",
      "[2.5 4.  2.5 1.  5. ]\n",
      "[0.84 0.78 0.74 0.85 0.52]\n",
      "[2. 3. 4. 1. 5.]\n",
      "[0.57 0.54 0.41 0.56 0.3]\n",
      "[1. 3. 4. 2. 5.]\n",
      "[0.42 0.33 0.28 0.42 0.3]\n",
      "[1.5 3.  5.  1.5 4. ]\n",
      "[0.35 0.43 0.61 0.32 0.31]\n",
      "[3. 2. 1. 4. 5.]\n",
      "[0.44 0.18 0.3 0.42 0.3]\n",
      "[1.  5.  3.5 2.  3.5]\n",
      "[0.6 0.0 0.55 0.6 0.13]\n",
      "[1.5 5.  3.  1.5 4. ]\n",
      "[0.0 0.0 0.36 0.0 0.23]\n",
      "[4. 4. 1. 4. 2.]\n",
      "[0.6 0.51 0.59 0.61 0.26]\n",
      "[2. 4. 3. 1. 5.]\n",
      "[0.06 0.0 0.21 0.09 0.09]\n",
      "[4.  5.  1.  2.5 2.5]\n",
      "[0.73 0.69 0.79 0.74 0.33]\n",
      "[3. 4. 1. 2. 5.]\n",
      "[0.67 0.56 0.69 0.67 0.32]\n",
      "[2.5 4.  1.  2.5 5. ]\n",
      "[0.0 0.0 0.17 0.0 0.04]\n",
      "[4. 4. 1. 4. 2.]\n",
      "[0.0 0.0 0.25 0.0 0.07]\n",
      "[4. 4. 1. 4. 2.]\n",
      "[0.35 0.28 0.24 0.35 0.17]\n",
      "[1.5 3.  4.  1.5 5. ]\n",
      "[0.18 0.11 0.48 0.18 0.11]\n",
      "[2.5 4.5 1.  2.5 4.5]\n",
      "[0.22 0.29 0.54 0.24 0.17]\n",
      "[4. 2. 1. 3. 5.]\n",
      "[0.46 0.21 0.3 0.46 0.28]\n",
      "[1.5 5.  3.  1.5 4. ]\n",
      "[0.3 0.0 0.16 0.3 0.06]\n",
      "[1.5 5.  3.  1.5 4. ]\n",
      "[0.0 0.0 0.0 0.0 0.0]\n",
      "[3. 3. 3. 3. 3.]\n",
      "[0.46 0.0 0.44 0.46 0.1]\n",
      "[1.5 5.  3.  1.5 4. ]\n",
      "[0.55 0.0 0.46 0.55 0.29]\n",
      "[1.5 5.  3.  1.5 4. ]\n",
      "[0.0 0.0 0.0 0.0 0.0]\n",
      "[3. 3. 3. 3. 3.]\n",
      "[0.0 0.0 0.14 0.0 0.0]\n",
      "[3.5 3.5 1.  3.5 3.5]\n",
      "[0.0 0.0 0.0 0.0 0.0]\n",
      "[3. 3. 3. 3. 3.]\n",
      "[0.0 0.0 0.0 0.0 0.0]\n",
      "[3. 3. 3. 3. 3.]\n",
      "[0.0 0.0 0.25 0.0 0.0]\n",
      "[3.5 3.5 1.  3.5 3.5]\n"
     ]
    }
   ],
   "source": [
    "ynew = []\n",
    "\n",
    "for i, row in df.iterrows():\n",
    "    x = row[2:] \n",
    "    print(x.values)\n",
    "    y = rankdata([-1 * j for j in x])\n",
    "    print(y)\n",
    "    ynew.append(y)\n",
    "    "
   ]
  },
  {
   "cell_type": "code",
   "execution_count": 10,
   "metadata": {},
   "outputs": [],
   "source": [
    "dfR = pd.DataFrame(ynew)"
   ]
  },
  {
   "cell_type": "code",
   "execution_count": 11,
   "metadata": {},
   "outputs": [],
   "source": [
    "avranks = dfR.mean(axis=0)"
   ]
  },
  {
   "cell_type": "code",
   "execution_count": 12,
   "metadata": {},
   "outputs": [
    {
     "data": {
      "text/plain": [
       "0    2.345238\n",
       "1    3.511905\n",
       "2    2.547619\n",
       "3    2.464286\n",
       "4    4.130952\n",
       "dtype: float64"
      ]
     },
     "execution_count": 12,
     "metadata": {},
     "output_type": "execute_result"
    }
   ],
   "source": [
    "avranks"
   ]
  },
  {
   "cell_type": "code",
   "execution_count": 13,
   "metadata": {},
   "outputs": [],
   "source": [
    "cd = Orange.evaluation.compute_CD(avranks,42,alpha=\"0.05\",test='nemenyi')"
   ]
  },
  {
   "cell_type": "code",
   "execution_count": 15,
   "metadata": {},
   "outputs": [
    {
     "name": "stdout",
     "output_type": "stream",
     "text": [
      "cd= 0.9411714455347656\n"
     ]
    },
    {
     "data": {
      "image/png": "[encoded data removed]",
      "text/plain": [
       "<Figure size 720x126 with 1 Axes>"
      ]
     },
     "metadata": {},
     "output_type": "display_data"
    }
   ],
   "source": [
    "print(\"cd=\",cd)\n",
    "Orange.evaluation.graph_ranks(avranks, names, lowv = 0, highv=5, cd=cd, width=10)\n",
    "\n",
    "#mpl.scale = 3\n",
    "plt.show()"
   ]
  },
  {
   "cell_type": "code",
   "execution_count": null,
   "metadata": {},
   "outputs": [],
   "source": []
  }
 ],
 "metadata": {
  "kernelspec": {
   "display_name": "Python 3",
   "language": "python",
   "name": "python3"
  },
  "language_info": {
   "codemirror_mode": {
    "name": "ipython",
    "version": 3
   },
   "file_extension": ".py",
   "mimetype": "text/x-python",
   "name": "python",
   "nbconvert_exporter": "python",
   "pygments_lexer": "ipython3",
   "version": "3.6.10"
  }
 },
 "nbformat": 4,
 "nbformat_minor": 4
}
